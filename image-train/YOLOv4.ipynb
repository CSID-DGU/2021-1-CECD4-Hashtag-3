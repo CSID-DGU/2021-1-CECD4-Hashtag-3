{
  "nbformat": 4,
  "nbformat_minor": 0,
  "metadata": {
    "colab": {
      "name": "YOLOv4.ipynb",
      "provenance": [],
      "collapsed_sections": [],
      "authorship_tag": "ABX9TyPe0j+SOnxym2Yek1CfhgIt",
      "include_colab_link": true
    },
    "kernelspec": {
      "name": "python3",
      "display_name": "Python 3"
    },
    "language_info": {
      "name": "python"
    },
    "accelerator": "GPU"
  },
  "cells": [
    {
      "cell_type": "markdown",
      "metadata": {
        "id": "view-in-github",
        "colab_type": "text"
      },
      "source": [
        "<a href=\"https://colab.research.google.com/github/CSID-DGU/2021-1-CECD4-Hashtag-3/blob/main/YOLOv4.ipynb\" target=\"_parent\"><img src=\"https://colab.research.google.com/assets/colab-badge.svg\" alt=\"Open In Colab\"/></a>"
      ]
    },
    {
      "cell_type": "markdown",
      "metadata": {
        "id": "c09nfdsvuEuI"
      },
      "source": [
        "1. clone darknet"
      ]
    },
    {
      "cell_type": "code",
      "metadata": {
        "id": "HTi15jkkuAnp"
      },
      "source": [
        "!git clone https://github.com/AlexeyAB/darknet"
      ],
      "execution_count": null,
      "outputs": []
    },
    {
      "cell_type": "code",
      "metadata": {
        "id": "_f5aYiN8uJSa"
      },
      "source": [
        "%cd darknet\n",
        "!sed -i 's/OPENCV=0/OPENCV=1/' Makefile\n",
        "!sed -i 's/GPU=0/GPU=1/' Makefile\n",
        "!sed -i 's/CUDNN=0/CUDNN=1/' Makefile\n",
        "!sed -i 's/CUDNN_HALF=0/CUDNN_HALF=1/' Makefile"
      ],
      "execution_count": null,
      "outputs": []
    },
    {
      "cell_type": "code",
      "metadata": {
        "id": "s9Wo9iCpvAPO"
      },
      "source": [
        "!/usr/local/cuda/bin/nvcc --version"
      ],
      "execution_count": null,
      "outputs": []
    },
    {
      "cell_type": "code",
      "metadata": {
        "id": "8PwavrvYvCgg"
      },
      "source": [
        "!make"
      ],
      "execution_count": null,
      "outputs": []
    },
    {
      "cell_type": "code",
      "metadata": {
        "id": "I_2PKGyovEs_"
      },
      "source": [
        "!wget https://github.com/AlexeyAB/darknet/releases/download/darknet_yolo_v3_optimal/yolov4.weights"
      ],
      "execution_count": null,
      "outputs": []
    },
    {
      "cell_type": "markdown",
      "metadata": {
        "id": "Q8oKVa-A3B2x"
      },
      "source": [
        "뒤에서 이미지를 출력하고 upload하고 download할 때 사용할 함수 선언"
      ]
    },
    {
      "cell_type": "code",
      "metadata": {
        "id": "ANCBb5WYvJi0"
      },
      "source": [
        "# define helper functions\n",
        "def imShow(path):\n",
        "  import cv2\n",
        "  import matplotlib.pyplot as plt\n",
        "  %matplotlib inline\n",
        "\n",
        "  image = cv2.imread(path)\n",
        "  height, width = image.shape[:2]\n",
        "  resized_image = cv2.resize(image,(3*width, 3*height), interpolation = cv2.INTER_CUBIC)\n",
        "\n",
        "  fig = plt.gcf()\n",
        "  fig.set_size_inches(18, 10)\n",
        "  plt.axis(\"off\")\n",
        "  plt.imshow(cv2.cvtColor(resized_image, cv2.COLOR_BGR2RGB))\n",
        "  plt.show()\n",
        "\n",
        "# use this to upload files\n",
        "def upload():\n",
        "  from google.colab import files\n",
        "  uploaded = files.upload() \n",
        "  for name, data in uploaded.items():\n",
        "    with open(name, 'wb') as f:\n",
        "      f.write(data)\n",
        "      print ('saved file', name)\n",
        "\n",
        "# use this to download a file  \n",
        "def download(path):\n",
        "  from google.colab import files\n",
        "  files.download(path)"
      ],
      "execution_count": null,
      "outputs": []
    },
    {
      "cell_type": "code",
      "metadata": {
        "id": "mlrcZ0fMvM-c"
      },
      "source": [
        "!./darknet detector test cfg/coco.data cfg/yolov4.cfg yolov4.weights data/person.jpg"
      ],
      "execution_count": null,
      "outputs": []
    },
    {
      "cell_type": "code",
      "metadata": {
        "id": "46lOz9BxvPIh"
      },
      "source": [
        "imShow('predictions.jpg')"
      ],
      "execution_count": null,
      "outputs": []
    },
    {
      "cell_type": "markdown",
      "metadata": {
        "id": "-7f7OiL2uzpc"
      },
      "source": [
        "내 로컬 메모리에 있는 파일을 업로드 하는 부분"
      ]
    },
    {
      "cell_type": "code",
      "metadata": {
        "id": "PJSPFGl8u0El"
      },
      "source": [
        "from google.colab import files\n",
        "file_uploaded = files.upload()"
      ],
      "execution_count": null,
      "outputs": []
    },
    {
      "cell_type": "markdown",
      "metadata": {
        "id": "vDoC63hx26fA"
      },
      "source": [
        "위 과정에서 업로드한 test.png 파일을 이용해 욜로 실행"
      ]
    },
    {
      "cell_type": "code",
      "metadata": {
        "id": "k22yHHfO-3pC"
      },
      "source": [
        "!./darknet detector test cfg/coco.data cfg/yolov4.cfg yolov4.weights ../test.jpg\n",
        "imShow('predictions.jpg')"
      ],
      "execution_count": null,
      "outputs": []
    },
    {
      "cell_type": "code",
      "metadata": {
        "id": "Vek6kMzP_Qa0"
      },
      "source": [
        "%cd darknet/"
      ],
      "execution_count": null,
      "outputs": []
    },
    {
      "cell_type": "markdown",
      "metadata": {
        "id": "NKNKzsMc2vH4"
      },
      "source": [
        "내 드라이브 연동"
      ]
    },
    {
      "cell_type": "code",
      "metadata": {
        "id": "V1RC_72JAB8_"
      },
      "source": [
        "%cd ..\n",
        "from google.colab import drive\n",
        "drive.mount('/content/gdrive')"
      ],
      "execution_count": null,
      "outputs": []
    },
    {
      "cell_type": "markdown",
      "metadata": {
        "id": "b7Dtb6Ch2oWD"
      },
      "source": [
        "내 드라이브를  /mydrive라는 루트로 접근할 수 있도록 설정"
      ]
    },
    {
      "cell_type": "code",
      "metadata": {
        "id": "71_CejTtkRR_"
      },
      "source": [
        "!ln -s /content/gdrive/My\\ Drive/ /mydrive\n",
        "!ls /mydrive"
      ],
      "execution_count": null,
      "outputs": []
    },
    {
      "cell_type": "code",
      "metadata": {
        "id": "eepFi1M1lCHB"
      },
      "source": [
        "%cd darknet"
      ],
      "execution_count": null,
      "outputs": []
    },
    {
      "cell_type": "markdown",
      "metadata": {
        "id": "EEHpTyYj12Sb"
      },
      "source": [
        "내 드라이브에 있는 이미지 파일을 이용해서 임계값이  0.5  이상인 경우를 고려해 출력"
      ]
    },
    {
      "cell_type": "code",
      "metadata": {
        "id": "EvwIGJkylaZN"
      },
      "source": [
        "!./darknet detector test cfg/coco.data cfg/yolov4.cfg yolov4.weights /mydrive/images/cats.jpg -thresh 0.5 -ext_output -dont_show \n",
        "imShow('predictions.jpg')"
      ],
      "execution_count": null,
      "outputs": []
    },
    {
      "cell_type": "markdown",
      "metadata": {
        "id": "oXYz9eAy2GgT"
      },
      "source": [
        "predictions.jpg 파일을 내 드라이브에 images파일에 detection1.jpg 파일로 저장"
      ]
    },
    {
      "cell_type": "code",
      "metadata": {
        "id": "kqG-QmjgmFcE"
      },
      "source": [
        "!cp predictions.jpg /mydrive/images/detection1.jpg"
      ],
      "execution_count": null,
      "outputs": []
    },
    {
      "cell_type": "markdown",
      "metadata": {
        "id": "u8oF-qDT2QbD"
      },
      "source": [
        "처리하고자 하는 이미지 목록이 적혀있는 images.txt파일을 이용해 이미지 처리를 진행한 후 result.json 파일을 결과로 출력"
      ]
    },
    {
      "cell_type": "code",
      "metadata": {
        "id": "HcxlXTvanbAF"
      },
      "source": [
        "!./darknet detector test cfg/coco.data cfg/yolov4.cfg yolov4.weights -ext_output -dont_show -out result.json < /mydrive/images.txt"
      ],
      "execution_count": null,
      "outputs": []
    },
    {
      "cell_type": "markdown",
      "metadata": {
        "id": "95i6LvVLETvY"
      },
      "source": [
        "train"
      ]
    },
    {
      "cell_type": "markdown",
      "metadata": {
        "id": "pI-9rD6w3P1P"
      },
      "source": [
        "1. 새로 학습시킬 데이터 생성 ( 1class - 1000 )\n",
        "- 구글을 통해 이미지 다운로드(https://github.com/theAIGuysCode/Download-Google-Images)\n",
        "- labelImg를 통해 라벨링 진행(https://github.com/tzutalin/labelImg)"
      ]
    },
    {
      "cell_type": "markdown",
      "metadata": {
        "id": "dCxPBwnG6FUs"
      },
      "source": [
        "2. 만들어진  dataset 에서 70-80% obj.zip으로 만들고 20-30% test.zip으로 만든 후 내 google 드라이브에 업로드"
      ]
    },
    {
      "cell_type": "markdown",
      "metadata": {
        "id": "E7y6tJQ664ma"
      },
      "source": [
        "내 드라이브 yolov4 폴더에 있는 파일들 출력"
      ]
    },
    {
      "cell_type": "code",
      "metadata": {
        "id": "0mfPJpEx3PnX"
      },
      "source": [
        "!ls /mydrive/yolov4"
      ],
      "execution_count": null,
      "outputs": []
    },
    {
      "cell_type": "markdown",
      "metadata": {
        "id": "0MmWgvvd6yXy"
      },
      "source": [
        "내 드라이브에 있는 파일 카피"
      ]
    },
    {
      "cell_type": "code",
      "metadata": {
        "id": "XfqVi__-BMcB"
      },
      "source": [
        "!cp /mydrive/yolov4/obj.zip ../\n",
        "!cp /mydrive/yolov4/test.zip  ../"
      ],
      "execution_count": null,
      "outputs": []
    },
    {
      "cell_type": "code",
      "metadata": {
        "id": "ub4zMm2Ajk5i"
      },
      "source": [
        "!unzip ../obj.zip -d data/\n",
        "!unzip ../text.zip -d data/"
      ],
      "execution_count": null,
      "outputs": []
    },
    {
      "cell_type": "markdown",
      "metadata": {
        "id": "bcPGZPFO7cHy"
      },
      "source": [
        "3. configuring files for training"
      ]
    },
    {
      "cell_type": "markdown",
      "metadata": {
        "id": "UQZKnfrp8uF4"
      },
      "source": [
        "1) cfg file"
      ]
    },
    {
      "cell_type": "code",
      "metadata": {
        "id": "ECR0eySO7b6C"
      },
      "source": [
        "!cp cfg/yolov4-custom.cfg /mydrive/yolov4/yolov4-obj.cfg   "
      ],
      "execution_count": null,
      "outputs": []
    },
    {
      "cell_type": "code",
      "metadata": {
        "id": "g8NECoAK8702"
      },
      "source": [
        "download('cfg/yolov4-custom.cfg')\n",
        "# 다운로드 후 로컬에서 yolov4-obj.cfg로 이름 바꾸기"
      ],
      "execution_count": null,
      "outputs": []
    },
    {
      "cell_type": "markdown",
      "metadata": {
        "id": "hrzR4JHL9K2K"
      },
      "source": [
        "- batch=64, subdivisions =16 권장 ( subdivisions = 32 도 가능 )\n",
        "- width , height = 32 or 16 으로 설정하는게 일반적 ( 더 크면 느려짐 )\n",
        "- max_batches = (# of classes ; 2) * 3000 ( 적어도 6000이 되야함. )\n",
        "- steps = 0.8 * max_batches = 0.8 * 6000 = 4800/ 0.9 * 6000 = 5400\n",
        "- filters = (# of classes ; 2 + 5 ) * 3 = 21\n",
        "=> max_batches = 6000 / steps = 4800, 5400 / classes = 2/ filters = 21\n",
        "####* 메모리 사용 문제가 있는 경우 cfg파일에서 random = 1 을 random = 0 으로 변경"
      ]
    },
    {
      "cell_type": "code",
      "metadata": {
        "id": "9mfhbsAL9Jee"
      },
      "source": [
        "!cp /mydrive/yolov4/yolov4-obj.cfg ./cfg"
      ],
      "execution_count": null,
      "outputs": []
    },
    {
      "cell_type": "markdown",
      "metadata": {
        "id": "2gDQN-8N_kUk"
      },
      "source": [
        "2) obj.names and obj.data"
      ]
    },
    {
      "cell_type": "markdown",
      "metadata": {
        "id": "S3EkYY_3_pZ0"
      },
      "source": [
        "- classes.txt 파일과 동일한 순서로 한줄에 하나씩 class 입력한 obj.names 파일 생성(스페이스 쓰면 안됨.)\n",
        "- classes =2, train = data.train.txt, valid = data/test.txt, names = data/obj.names , backup = /mydrive/yolov4/backup( 폴더 생성해야 함 ) \n"
      ]
    },
    {
      "cell_type": "code",
      "metadata": {
        "id": "luswSoGA_iLi"
      },
      "source": [
        "!cp /mydrive/yolov4/obj.names ./data\n",
        "!cp /mydrive/yolov4/obj.data ./data"
      ],
      "execution_count": null,
      "outputs": []
    },
    {
      "cell_type": "markdown",
      "metadata": {
        "id": "qai8eNI6CYDh"
      },
      "source": [
        "3)  train.txt and test.txt 파일 생성 \n",
        "-  https://github.com/theAIGuysCode/YOLOv4-Cloud-Tutorial/tree/master/yolov4 링크에서 generate_test.py 와 generate_train.py 복사 후 업로드"
      ]
    },
    {
      "cell_type": "code",
      "metadata": {
        "id": "KI9sab2NAwGp"
      },
      "source": [
        "!cp /mydrive/yolov4/generate_trian.py ./\n",
        "!cp /mydrive/yolov4/generate_test.py ./"
      ],
      "execution_count": null,
      "outputs": []
    },
    {
      "cell_type": "code",
      "metadata": {
        "id": "t2sVOFy1DH19"
      },
      "source": [
        "!python generate_train.py\n",
        "!python generate_test.py"
      ],
      "execution_count": null,
      "outputs": []
    },
    {
      "cell_type": "code",
      "metadata": {
        "id": "8TKeI0CEDNnd"
      },
      "source": [
        "!ls data/"
      ],
      "execution_count": null,
      "outputs": []
    },
    {
      "cell_type": "markdown",
      "metadata": {
        "id": "pIcV-6YXDj3U"
      },
      "source": [
        "4) 학습에 이용할 pre_trained weights 파일 다운로드"
      ]
    },
    {
      "cell_type": "code",
      "metadata": {
        "id": "3rZr9eO2DpTc"
      },
      "source": [
        "!wget https://github.com/AlexeyAB/darknet/releases/download/darknet_yolo_v3_optimal/yolov4.conv.137"
      ],
      "execution_count": null,
      "outputs": []
    },
    {
      "cell_type": "markdown",
      "metadata": {
        "id": "qVv43XOgDvCM"
      },
      "source": [
        "5) 학습 시작!"
      ]
    },
    {
      "cell_type": "code",
      "metadata": {
        "id": "mkXar-oPDr87"
      },
      "source": [
        "!./darknet detector train data/obj.data cfg/yolov4-obj.cfg yolov4.conv.137 -dont_show -map"
      ],
      "execution_count": null,
      "outputs": []
    },
    {
      "cell_type": "markdown",
      "metadata": {
        "id": "Gh9WpjowMKN2"
      },
      "source": [
        "-  학습 완료 후 차트 출력"
      ]
    },
    {
      "cell_type": "code",
      "metadata": {
        "id": "AmppmAQSMJ6G"
      },
      "source": [
        "imShow('chart.png')"
      ],
      "execution_count": null,
      "outputs": []
    },
    {
      "cell_type": "markdown",
      "metadata": {
        "id": "1c1wRLgoMtK8"
      },
      "source": [
        "- 중간에 끝나는 경우 가장 마지막에 출력된 weight파일을 기준으로 시작 "
      ]
    },
    {
      "cell_type": "code",
      "metadata": {
        "id": "dB0uzr-aMybr"
      },
      "source": [
        "!./darknet detector train data/obj.data cfg/yolov4-obj.cfg /mydrive/yolov4/backup/yolov4-obj_last.weights -dont_show"
      ],
      "execution_count": null,
      "outputs": []
    },
    {
      "cell_type": "markdown",
      "metadata": {
        "id": "iIYBeLHpNZ17"
      },
      "source": [
        "- 학습 끝 -> 학습 시킨 파일로 욜로 실행"
      ]
    },
    {
      "cell_type": "code",
      "metadata": {
        "id": "mrzjEpVANTfv"
      },
      "source": [
        "%cd cfg\n",
        "!sed -i 's/batch=64/batch=1' yolov4-obj.cfg\n",
        "!sed -i 's/subdivisions=16/subdivisions=1/' yolov4-obj.cfg\n",
        "%cd .."
      ],
      "execution_count": null,
      "outputs": []
    },
    {
      "cell_type": "code",
      "metadata": {
        "id": "Lp09IlDkNyGE"
      },
      "source": [
        "!./darknet detector test data/obj.data cfg/yolov4-obj.cfg /mydrive/yolov4/backup/yolov4-obj_last.weights /mydrive/images/car2.jpg -thresh 0.3\n",
        "imShow('predictions.jpg')"
      ],
      "execution_count": null,
      "outputs": []
    }
  ]
}